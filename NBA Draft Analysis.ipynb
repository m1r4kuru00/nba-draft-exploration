{
 "cells": [
  {
   "cell_type": "code",
   "execution_count": null,
   "id": "a40e41e3-ab38-4e19-989d-a238305b56bb",
   "metadata": {},
   "outputs": [],
   "source": [
    "# Importing the necessary libraries\n",
    "\n",
    "# Pandas: Data manipulation and analysis library\n",
    "import pandas as pd\n",
    "\n",
    "# Matplotlib: Plotting library for creating static, animated, and interactive visualizations\n",
    "import matplotlib.pyplot as plt\n",
    "\n",
    "# Seaborn: Data visualization library based on Matplotlib, provides a high-level interface for drawing attractive and informative statistical graphics\n",
    "import seaborn as sns\n",
    "\n",
    "# IPython.display: Provides tools for displaying rich media representations in the IPython notebook\n",
    "from IPython.display import display, Image\n",
    "\n",
    "# scipy.stats: Part of SciPy library, contains statistical functions, including ANOVA (f_oneway)\n",
    "from scipy.stats import f_oneway\n",
    "\n",
    "# statsmodels.stats.multicomp: Part of Statsmodels library, provides tools for multiple comparison tests, including Tukey's HSD\n",
    "from statsmodels.stats.multicomp import pairwise_tukeyhsd"
   ]
  },
  {
   "cell_type": "code",
   "execution_count": null,
   "id": "ac3d1d88-a897-4342-a989-7aa1ce95c37a",
   "metadata": {},
   "outputs": [],
   "source": [
    "nba_df = pd.read_csv('./all_seasons.csv')"
   ]
  },
  {
   "cell_type": "code",
   "execution_count": null,
   "id": "27bbf455-cb11-4fcb-b9fc-ad15f0fce5b0",
   "metadata": {},
   "outputs": [],
   "source": [
    "# Confirming column names for consistency and adherence to a standard format.\n",
    "nba_df.columns"
   ]
  },
  {
   "cell_type": "code",
   "execution_count": null,
   "id": "9c510a22-9fe2-4966-b01b-13e52da5607f",
   "metadata": {},
   "outputs": [],
   "source": [
    "# Remove the 'Unnamed: 0' column, which is an unnecessary index column when the dataset is read.\n",
    "nba_df.drop(columns='Unnamed: 0', inplace=True)"
   ]
  },
  {
   "cell_type": "markdown",
   "id": "f2a89fbf-fe49-40a6-b1f4-a5831c4a0586",
   "metadata": {},
   "source": [
    "### Column Name Updates\n",
    "\n",
    "In the current dataset, certain column names consist of abbreviations that might pose challenges, especially for those unfamiliar with the context. To enhance readability and comprehension, I intend to rename specific columns:\n",
    "\n",
    "- `pts`: Renamed to `points` (Average number of points scored)\n",
    "- `reb`: Renamed to `rebounds` (Average number of rebounds grabbed)\n",
    "- `ast`: Renamed to `assists` (Average number of assists distributed)\n",
    "- `oreb_pct`: Renamed to `offensive_rebounds_pct` (Percentage of available offensive rebounds grabbed)\n",
    "- `dreb_pct`: Renamed to `defensive_rebounds_pct` (Percentage of available defensive rebounds grabbed)\n",
    "- `usg_pct`: Renamed to `usage_pct` (Percentage of team plays used by the player)\n",
    "- `ts_pct`: Renamed to `true_shooting_pct` (Measure of the player's shooting efficiency)\n",
    "- `ast_pct`: Renamed to `assists_pct` (Percentage of teammate field goals the player assisted in)\n",
    "\n",
    "This adjustment aims to create more descriptive and accessible columnwiderfor a broance.\n"
   ]
  },
  {
   "cell_type": "code",
   "execution_count": null,
   "id": "0348bcd3-0eb0-41ca-a463-2ca0b686d563",
   "metadata": {},
   "outputs": [],
   "source": [
    "#renaming columns for better understanding which abbreviation stands for which statistic\n",
    "nba_df.rename(columns={'gp':'games_played', 'pts':'points', 'reb':'rebounds', 'ast':'assists', \n",
    "                       'oreb_pct':'offensive_rebounds_pct', 'dreb_pct':'deffensive_rebounds_pct', 'usg_pct':'usage_percentage',\n",
    "                      'ts_pct':'true_shooting_pct', 'ast_pct':'assists_pct'}, inplace=True)"
   ]
  },
  {
   "cell_type": "code",
   "execution_count": null,
   "id": "5a1edd04-1392-4b49-89a6-8e37f29b2876",
   "metadata": {},
   "outputs": [],
   "source": [
    "#checking the head of the dataframe to see if the changes are applied\n",
    "nba_df.head()"
   ]
  },
  {
   "cell_type": "code",
   "execution_count": null,
   "id": "aa2e327e-41e5-4896-9241-84d0cfb0e8d5",
   "metadata": {},
   "outputs": [],
   "source": [
    "#inspecting the shape of the dataframe\n",
    "print(nba_df.shape)\n",
    "print(nba_df.info()) #to get an overview of the datatypes and non-null values"
   ]
  },
  {
   "cell_type": "markdown",
   "id": "aa8b31b1-7b16-4a36-a40b-17b6e7e5423c",
   "metadata": {},
   "source": [
    "### Initial Data Inspection\n",
    "\n",
    "After reviewing the results of executing `df.info()`, it appears that the data types match the actual data stored. Notably, columns such as `draft_year`, `draft_round`, and `draft_number` are of type object, which is acceptable given that some players may be undrafted. Moreover, there are no null values present. In summary, the dataset is considered satisfactory.\n",
    "\n",
    "### Draft Analysis\n",
    "\n",
    "For the purpose of draft analysis, I plan to convert the \"Undrafted\" entries to 0. This conversion will facilitate numerical analysis and provide a clearer representation of players who were not drafted. The following steps will be taken:\n",
    "\n",
    "1. Convert \"Undrafted\" entries in the `draft_round` column to 0.\n",
    "2. Convert \"Undrafted\" entries in the `draft_number` column to 0.\n",
    "\n",
    "This adjustment aims to enhance the dataset for draft-related numerical analysis.\n",
    "alysis."
   ]
  },
  {
   "cell_type": "code",
   "execution_count": null,
   "id": "912c5d41-5156-4c2b-8348-6732d01376b5",
   "metadata": {},
   "outputs": [],
   "source": [
    "# Replace 'Undrafted' with 0 and convert to integer dtype for 'draft_round' and 'draft_number'\n",
    "nba_df['draft_round'] = nba_df['draft_round'].replace('Undrafted', 0).astype(int)\n",
    "nba_df['draft_number'] = nba_df['draft_number'].replace('Undrafted', 0).astype(int)"
   ]
  },
  {
   "cell_type": "markdown",
   "id": "fc641dff-fccf-4a52-88b7-1e2a1333aa0c",
   "metadata": {},
   "source": [
    "### Draft Analysis:\n",
    "\n",
    "1. What is the distribution of drafted and undrafted players in the dataset? </br>\n",
    "2. Do players who were drafted in earlier rounds tend to have higher average points or better performance?"
   ]
  },
  {
   "cell_type": "code",
   "execution_count": null,
   "id": "4c8b5df1-6c4a-4126-9363-7f9fd5c970db",
   "metadata": {},
   "outputs": [],
   "source": [
    "\n",
    "plt.figure(figsize=(10, 6))\n",
    "sns.countplot(x='draft_round', data=nba_df, palette='viridis')\n",
    "plt.title('Distribution of Players Across Draft Rounds')\n",
    "plt.xlabel('Draft Round')\n",
    "plt.ylabel('Number of Players')\n",
    "plt.show()\n"
   ]
  },
  {
   "cell_type": "markdown",
   "id": "d92f77e4-cc0d-4612-9db1-14837138f09c",
   "metadata": {},
   "source": [
    "### Draft Analysis Summary\n",
    "\n",
    "After a quick glance at the chart, we can observe the following distribution of players across draft rounds:\n",
    "\n",
    "- Approximately 7000 players are drafted in the first round.\n",
    "- Around 3000 players are drafted in the second round.\n",
    "- Approximately 2500 players are marked as \"Undrafted.\"\n",
    "- The number of players drafted in rounds 3 to 8 is not that many, as it would not even reach the hundreds."
   ]
  },
  {
   "cell_type": "code",
   "execution_count": null,
   "id": "303cbb7a-3526-47b0-b438-64357aae2674",
   "metadata": {},
   "outputs": [],
   "source": [
    "#Grouping by 'draft_round' and then computing for the average 'points', 'rebounds' and 'assists'\n",
    "nba_groupedby_draft = nba_df.groupby('draft_round')[['points', 'rebounds', 'assists']].mean().reset_index()\n",
    "\n",
    "print(nba_groupedby_draft)"
   ]
  },
  {
   "cell_type": "markdown",
   "id": "29fd86af-e57d-42bb-955c-005f2ae213af",
   "metadata": {},
   "source": [
    "- Players drafted in the first round have higher average points, rebounds, and assists compared to other rounds.\n",
    "- Players drafted in the second round also show good performance, though typically not as high as those in the first round.\n",
    "- Undrafted players generally have lower averages in points, rebounds, and assists compared to drafted players.\n",
    "- Caution should be taken when interpreting the performance of players drafted in less common rounds (e.g., 3rd, 7th) due to the smaller number of observations.\n"
   ]
  },
  {
   "cell_type": "code",
   "execution_count": null,
   "id": "1eb80170-0e92-4569-aabd-fb7465096834",
   "metadata": {
    "scrolled": true
   },
   "outputs": [],
   "source": [
    "# Function to save and display the plot\n",
    "def save_and_display_plot(figure, filename):\n",
    "    figure.savefig(filename)\n",
    "    display(Image(filename))\n",
    "\n",
    "# Bar plot: Average points per draft round\n",
    "plt.figure(figsize=(12, 8))\n",
    "sns.barplot(x='draft_round', y='points', data=nba_groupedby_draft, errorbar=None)\n",
    "plt.title('Average Points by Draft Round')\n",
    "plt.xlabel('Draft Round')\n",
    "plt.ylabel('Average Points')\n",
    "save_and_display_plot(plt, 'average_points.png')\n",
    "\n",
    "# Bar plot: Average rebounds per draft round\n",
    "plt.figure(figsize=(12, 8))\n",
    "sns.barplot(x='draft_round', y='rebounds', data=nba_groupedby_draft, errorbar=None)\n",
    "plt.title('Average Rebounds by Draft Round')\n",
    "plt.xlabel('Draft Round')\n",
    "plt.ylabel('Average Rebounds')\n",
    "save_and_display_plot(plt, 'average_rebounds.png')\n",
    "\n",
    "# Bar plot: Average assists per draft round\n",
    "plt.figure(figsize=(12, 8))\n",
    "sns.barplot(x='draft_round', y='assists', data=nba_groupedby_draft, errorbar=None)\n",
    "plt.title('Average Assists by Draft Round')\n",
    "plt.xlabel('Draft Round')\n",
    "plt.ylabel('Average Assists')\n",
    "save_and_display_plot(plt, 'average_assists.png')"
   ]
  },
  {
   "cell_type": "markdown",
   "id": "a25b1e1b-d763-46c5-8d0d-01f91ad86083",
   "metadata": {},
   "source": [
    "## Average Performance by Draft Round\n",
    "\n",
    "Visualizing the average performance metrics (points, rebounds, and assists) of players across different draft rounds provides insights into their relative performance.\n",
    "\n",
    "### Average Points\n",
    "\n",
    "![Average Points by Draft Round](average_points.png)\n",
    "\n",
    "The bar plot illustrates the average points scored by players in each draft round. Players drafted in the first round exhibit higher average points compared to other rounds.\n",
    "\n",
    "### Average Rebounds\n",
    "\n",
    "![Average Rebounds by Draft Round](average_rebounds.png)\n",
    "\n",
    "The second bar plot showcases the average rebounds for players in each draft round. While players in the first round lead in rebounds, second-round draftees also display notable performance.\n",
    "\n",
    "### Average Assists\n",
    "\n",
    "![Average Assists by Draft Round](average_assists.png)\n",
    "\n",
    "The final bar plot demonstrates the average assists for players in each draft round. First-round and second-round draftees tend to have higher average assists compared to other rounds.\n",
    "\n"
   ]
  },
  {
   "cell_type": "code",
   "execution_count": null,
   "id": "751c23d0-3e8f-4024-8869-fed049b7f332",
   "metadata": {},
   "outputs": [],
   "source": [
    "# Perform ANOVA for each metric\n",
    "anova_points = f_oneway(*[group['points'] for name, group in nba_df.groupby('draft_round')])\n",
    "anova_rebounds = f_oneway(*[group['rebounds'] for name, group in nba_df.groupby('draft_round')])\n",
    "anova_assists = f_oneway(*[group['assists'] for name, group in nba_df.groupby('draft_round')])\n",
    "\n",
    "# Display the results\n",
    "print(\"ANOVA Results for Average Points:\")\n",
    "print(\"F-statistic:\", anova_points.statistic)\n",
    "print(\"P-value:\", anova_points.pvalue)\n",
    "\n",
    "print(\"\\nANOVA Results for Average Rebounds:\")\n",
    "print(\"F-statistic:\", anova_rebounds.statistic)\n",
    "print(\"P-value:\", anova_rebounds.pvalue)\n",
    "\n",
    "print(\"\\nANOVA Results for Average Assists:\")\n",
    "print(\"F-statistic:\", anova_assists.statistic)\n",
    "print(\"P-value:\", anova_assists.pvalue)\n"
   ]
  },
  {
   "cell_type": "markdown",
   "id": "a387be5f-3a5d-4b64-bee8-4158135be5a7",
   "metadata": {},
   "source": [
    "## ANOVA Results for Average Performance Metrics by Draft Round\n",
    "\n",
    "### Average Points\n",
    "- F-statistic: 318.51\n",
    "- P-value: 0.00\n",
    "\n",
    "### Average Rebounds\n",
    "- F-statistic: 238.46\n",
    "- P-value: 0.00\n",
    "\n",
    "### Average Assists\n",
    "- F-statistic: 109.86\n",
    "- P-value: 4.95e-157\n",
    "\n",
    "The ANOVA results indicate statistically significant differences in average points, rebounds, and assists among different draft rounds. The low p-values suggest that at least one group mean is different from the others.\n",
    "\n",
    "Given the significance in ANOVA, it's advisable to perform post-hoc tests to identify which specific draft rounds exhibit significant differences in performance metrics.\n",
    "\n"
   ]
  },
  {
   "cell_type": "code",
   "execution_count": null,
   "id": "b801e12a-7845-4fc9-9e17-997bb0fc4327",
   "metadata": {},
   "outputs": [],
   "source": [
    "# Tukey's HSD for Points\n",
    "tukey_points = pairwise_tukeyhsd(nba_df['points'], nba_df['draft_round'])\n",
    "print(\"\\nTukey's HSD Results for Average Points:\")\n",
    "print(tukey_points.summary())\n",
    "\n",
    "# Tukey's HSD for Rebounds\n",
    "tukey_rebounds = pairwise_tukeyhsd(nba_df['rebounds'], nba_df['draft_round'])\n",
    "print(\"Tukey's HSD Results for Average Rebounds:\")\n",
    "print(tukey_rebounds.summary())\n",
    "\n",
    "# Tukey's HSD for Assists\n",
    "tukey_assists = pairwise_tukeyhsd(nba_df['assists'], nba_df['draft_round'])\n",
    "print(\"\\nTukey's HSD Results for Average Assists:\")\n",
    "print(tukey_assists.summary())"
   ]
  },
  {
   "cell_type": "markdown",
   "id": "8e7ae753-bad3-4249-bba3-36da1e515441",
   "metadata": {},
   "source": [
    "## Tukey's HSD Results Interpretation</br>\n",
    "\n",
    "***\n",
    "### Average Points:\n",
    "\n",
    "- **Significant Differences:**\n",
    "  - Players drafted in the first round have significantly higher average points than those in the second, third, fourth, sixth, and eighth rounds, as well as undrafted players.</br>\n",
    "  - Significant differences also exist between players drafted in the second round and those in the third, fourth, sixth, and eighth rounds.</br>\n",
    "  - Notably, undrafted players show no significant differences with players in the third, fourth, sixth, seventh, and eighth rounds.</br>\n",
    "\n",
    "- **No Significant Differences:**\n",
    "  - There are no significant differences in average points between players drafted in the third, fourth, sixth, seventh, and eighth rounds.</br>\n",
    "***\n",
    "### Average Rebounds:\n",
    "\n",
    "- **Significant Differences:**\n",
    "  - Players drafted in the first round have significantly higher average rebounds than those in the second, sixth, and eighth rounds, as well as undrafted players.</br>\n",
    "  - Significant differences also exist between players drafted in the second round and those in the third and seventh rounds.</br>\n",
    "\n",
    "- **No Significant Differences:**\n",
    "  - There are no significant differences in average rebounds between players drafted in the third, fourth, and sixth rounds, as well as between players drafted in the seventh and eighth rounds.</br>\n",
    "***\n",
    "### Average Assists:\n",
    "\n",
    "- **Significant Differences:**\n",
    "  - Players drafted in the first round have significantly higher average assists than those in the second, fourth, sixth, and eighth rounds, as well as undrafted players.</br>\n",
    "  - Significant differences also exist between players drafted in the second round and those in the fourth and eighth rounds.</br>\n",
    "\n",
    "- **No Significant Differences:**\n",
    "  - There are no significant differences in average assists between players drafted in the third, fourth, sixth , seventhce metrics across these rounds.\n",
    " metrics across these rounds.\n",
    "h rounds"
   ]
  },
  {
   "cell_type": "markdown",
   "id": "f1549f44-5a4e-4806-8bf6-6dc24fb4d33c",
   "metadata": {},
   "source": [
    "## Key Findings and Insights:\n",
    "\n",
    "***\n",
    "- Players drafted in the _**first round**_ consistently outperform others across various performance metrics.</br>\n",
    "- _**Second-round**_ draftees also demonstrate strong performance, although generally not reaching the levels of _**first-round**_ picks.</br>\n",
    "- _**Undrafted players**_, on average, lag behind drafted players in _**points**_, _**rebounds**_, and _**assists**_.</br>\n",
    "- The analysis provides valuable insights for assessing and comparing player performance based on their draft round."
   ]
  }
 ],
 "metadata": {
  "kernelspec": {
   "display_name": "Python 3 (ipykernel)",
   "language": "python",
   "name": "python3"
  },
  "language_info": {
   "codemirror_mode": {
    "name": "ipython",
    "version": 3
   },
   "file_extension": ".py",
   "mimetype": "text/x-python",
   "name": "python",
   "nbconvert_exporter": "python",
   "pygments_lexer": "ipython3",
   "version": "3.11.4"
  }
 },
 "nbformat": 4,
 "nbformat_minor": 5
}
